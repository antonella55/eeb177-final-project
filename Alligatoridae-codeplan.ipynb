{
 "cells": [
  {
   "cell_type": "markdown",
   "metadata": {
    "collapsed": false
   },
   "source": [
    "# Planning for the Project \n",
    "\n",
    "**first for the file input-output I want to know when \n",
    "each of the remains were found and try to group them together**\n",
    "\n",
    "a= file #import file\n",
    "b_contents = a.read() #open contents\n",
    "\n",
    "**this file contains occurence data for alligatoridae family**"
   ]
  },
  {
   "cell_type": "code",
   "execution_count": 1,
   "metadata": {
    "collapsed": true
   },
   "outputs": [],
   "source": [
    "alligator_file=open(\"alligatoridae_pbdb_data.csv\", \"r\")"
   ]
  },
  {
   "cell_type": "code",
   "execution_count": 2,
   "metadata": {
    "collapsed": false
   },
   "outputs": [
    {
     "name": "stdout",
     "output_type": "stream",
     "text": [
      "\"occurrence_no\",\"record_type\",\"reid_no\",\"flags\",\"collection_no\",\"identified_name\",\"identified_rank\",\"identified_no\",\"difference\",\"accepted_name\",\"accepted_rank\",\"accepted_no\",\"early_interval\",\"late_interval\",\"max_ma\",\"min_ma\",\"reference_no\"\n",
      "\n"
     ]
    }
   ],
   "source": [
    "alligator_header=alligator_file.readlines()[17]\n",
    "print(alligator_header)"
   ]
  },
  {
   "cell_type": "markdown",
   "metadata": {},
   "source": [
    "### The next bit of code is showing the name and rank(family, genus, species) for alligator data and the time period in which the fossils were found"
   ]
  },
  {
   "cell_type": "code",
   "execution_count": 3,
   "metadata": {
    "collapsed": false
   },
   "outputs": [],
   "source": [
    "alligator=alligator_file.readlines()[18:]"
   ]
  },
  {
   "cell_type": "code",
   "execution_count": 4,
   "metadata": {
    "collapsed": false
   },
   "outputs": [],
   "source": [
    "for line in alligator:\n",
    "    name=line.split(\",\")[5]\n",
    "    rank=line.split(\",\")[6]\n",
    "    early=line.split(\",\")[12]\n",
    "    late=line.split(\",\")[13]\n",
    "    print(str(name) + \"=\" + str(rank) + \" found from \" + str(early) + \" to \" + str(late))"
   ]
  },
  {
   "cell_type": "markdown",
   "metadata": {
    "collapsed": true
   },
   "source": [
    "### Lets make a list of the species found in alligatoridae family\n",
    "first i will have to filter out only specimens which were identified to species rank since this file contains specimens\n",
    "that were identified to either family, genus or species\n",
    "\n",
    "***Make a function that takes in the data and gives me a list of species***\n",
    "\n",
    "the code i used in the shell to find the unique species was: *tail -n +18 alligatoridae_pbdb_data.csv | sort | grep -w \"species\" | sort | cut -d \",\" -f 10 | sort | uniq -c*\n",
    "\n",
    "def species_list(file):\n",
    "\n",
    "    species_list=() *empty list to be populated by unique species names*\n",
    "    \n",
    "    for line in alligator:\n",
    "    \n",
    "        name=line.split(\",\")[9] *accepted name is at position 9, this will itterate through each line in alligator(which already has cut out the header) and give the species name*\n",
    "        \n",
    "        species_list.append(name) *this will append the species name to the list of species"
   ]
  },
  {
   "cell_type": "code",
   "execution_count": 5,
   "metadata": {
    "collapsed": false
   },
   "outputs": [
    {
     "name": "stdout",
     "output_type": "stream",
     "text": [
      "[]\n"
     ]
    }
   ],
   "source": [
    "def make_species_list(filename):\n",
    "    species_list = []\n",
    "    for line in filename:\n",
    "        name = line.split(\",\")[9]\n",
    "        species_list.append(name)\n",
    "    print(species_list)\n",
    "\n",
    "make_species_list(alligator)"
   ]
  },
  {
   "cell_type": "code",
   "execution_count": null,
   "metadata": {
    "collapsed": false
   },
   "outputs": [],
   "source": []
  },
  {
   "cell_type": "code",
   "execution_count": null,
   "metadata": {
    "collapsed": true
   },
   "outputs": [],
   "source": []
  }
 ],
 "metadata": {
  "anaconda-cloud": {},
  "kernelspec": {
   "display_name": "Python [conda root]",
   "language": "python",
   "name": "conda-root-py"
  },
  "language_info": {
   "codemirror_mode": {
    "name": "ipython",
    "version": 3
   },
   "file_extension": ".py",
   "mimetype": "text/x-python",
   "name": "python",
   "nbconvert_exporter": "python",
   "pygments_lexer": "ipython3",
   "version": "3.5.2"
  }
 },
 "nbformat": 4,
 "nbformat_minor": 2
}
