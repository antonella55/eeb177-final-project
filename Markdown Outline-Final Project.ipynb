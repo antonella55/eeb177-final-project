{
 "cells": [
  {
   "cell_type": "markdown",
   "metadata": {},
   "source": [
    "The *Alligatoridae* family is made up of species classified as alligators and caimans. *Alligatoridae* belongs to the order Crocodilia which is a sister taxa to birds(aves) and turtles(Testudines) due to the presence of the amniotic sac(2). All members of the *Alligatoridae* are carnivorous. Today the *Alligatoridae* family is distributed in Central and South America as well as the Southeastern United States (1). Their distinguished features such as massive skull and short, broad snout have not change significantly since the late Triassic. Members of *Alligatoridea* do not tolerate salt water, therefore their main way of dispersal was via land bridges. There is evidence that within *Alligatoridea* the caiman subclass evolved from the alligator subclass after its dispersal southward from North America to South America. \n",
    "\n",
    "#insert two phylogenetic trees from \"Reptile Ecology and Conservation\" \n",
    "\n",
    "1. http://www.nhc.ed.ac.uk/index.php?page=24.134.137.141.149\n",
    "\n",
    "2. Dodd, Kenneth C. Jr. \"Reptile Ecology and Conservation: A Handbook of Techniques\". (pg 4-6). https://books.google.com/books?id=pz8SDAAAQBAJ&pg=PA4&lpg=PA4&dq=alligatoridae+family+evolutionary+history&source=bl&ots=w-BJjh5AC9&sig=Uu8AP_TBYH-bTEc1K72kB8jTf6M&hl=en&sa=X&ved=0ahUKEwif5fH25LjSAhXFi1QKHYZnDlQQ6AEIVzAJ#v=onepage&q&f=false\n",
    "\n",
    "3. Rachel C. Benton, Dennis O. Terry, Jr., Emmett Evanoff, Hugh Gregory McDonald. \"The White River Badlands: Geology and Paleontology\". (pg 90-91). https://books.google.com/books?id=ZcFtCQAAQBAJ&pg=PA90&lpg=PA90&dq=alligatoridae+geologic+distribution&source=bl&ots=B13d3hQZJi&sig=3QzT9D4BGtffOaJEaj8ilpP8TQc&hl=en&sa=X&ved=0ahUKEwj0_aPa7bjSAhVI3mMKHcA4DQcQ6AEIRzAH#v=onepage&q=alligatoridae%20geologic%20distribution&f=false"
   ]
  },
  {
   "cell_type": "markdown",
   "metadata": {},
   "source": [
    "# Thus Far for my project:\n",
    "   My original data file from the pbdb website contained occurence data for specimens in the *alligatoridae* family, thus the specimens could be identified to the family, genus or species rank. Therefore, previous functions that I have written were to be able to sort through each occurence data and select only data which was identified to the species rank. \n",
    "   When using the the shell command *tail -n +19 alligatoridae_pbdb_data.csv | cut -d \",\" -f7 | sort | wc -l*, I can see that there are 444 specimens in the data. I sorted through each line of occurence data using python code below (this was done in the previous assignment \"2Functions and I/O\":\n",
    "   \n",
    "       max_ma_dict = {}\n",
    "       for line in alligator:\n",
    "           items = line.split(\",\")\n",
    "           max_ma = items[14]\n",
    "           species_name = items[5]\n",
    "               if re.search(r\"species\", line):\n",
    "                  max_ma_dict[species_name] = max_ma + str(\"mya\")\n",
    " To create a dictionary containing species as keys and then their max_ma as values"
   ]
  },
  {
   "cell_type": "markdown",
   "metadata": {},
   "source": [
    "# Moving Forward:\n",
    "I will update this dictionary using code learned in class on Thursday 3/2 (defaultdict(list)) to have each unique species appear only once in the dictionary, rather than each occurence become a new key. Then I will expand on the dictionary value by taking an average of the max_ma and min_ma; this value will be appended to the list for a key if that key is already present, otherwise a new key value pair will be made. "
   ]
  },
  {
   "cell_type": "markdown",
   "metadata": {},
   "source": [
    "#### I will not run the actual code yet, but this is how it would look\n",
    "from collections import defaultdict\n",
    "\n",
    "species_ranges=defaultdict(list)\n",
    "\n",
    "for line in alligator:\n",
    "\n",
    "    items = line.split('\",\"')\n",
    "    \n",
    "    max_ma = items[14]\n",
    "    \n",
    "    min_ma = items[15]\n",
    "    \n",
    "    species_name = items[5]\n",
    "    \n",
    "    if re.search(r\"species\", line): **sort through data so that only occurences identified to the species rank are considered**\n",
    "    \n",
    "        mean_age = (float(min_ma) + float(max_ma)) /2\n",
    "        species_ranges[species_name].append(mean_age) **append the mean age of a species to its corresponding key**\n",
    "        \n",
    "#### Then I will write this as a new file so that it can be used to make plots in RStudio\n",
    "output=open(\"alligatoridae_ranges.csv\", \"w\") #i am making the output file\n",
    "\n",
    "for key in species_ranges.keys():\n",
    "\n",
    "    ages=species_ranges[key]\n",
    "    \n",
    "    min_ma=min(ages)\n",
    "    \n",
    "    max_ma=max(ages)\n",
    "    \n",
    "    #now we need to get the genus\n",
    "    \n",
    "    genus=key.split(\" \")[0] \n",
    "    #print(genus,key, minage, maxage)\n",
    "    \n",
    "    outline= \"{},{},{},{}\\n\".format(genus, species, minage, maxage)\n",
    "    \n",
    "    output.write(outline)\n",
    "    \n",
    "    print(outline)\n",
    "    \n",
    "### Then following the \"Exploring a data set of fossil occurrences in R\" handout, I will make plots for the data to show species occurences through time. I may also plot the genus through time \n",
    "\n",
    "*** Figures will go here ***\n"
   ]
  },
  {
   "cell_type": "code",
   "execution_count": null,
   "metadata": {
    "collapsed": true
   },
   "outputs": [],
   "source": []
  }
 ],
 "metadata": {
  "anaconda-cloud": {},
  "kernelspec": {
   "display_name": "Python [conda root]",
   "language": "python",
   "name": "conda-root-py"
  },
  "language_info": {
   "codemirror_mode": {
    "name": "ipython",
    "version": 3
   },
   "file_extension": ".py",
   "mimetype": "text/x-python",
   "name": "python",
   "nbconvert_exporter": "python",
   "pygments_lexer": "ipython3",
   "version": "3.5.2"
  }
 },
 "nbformat": 4,
 "nbformat_minor": 2
}
